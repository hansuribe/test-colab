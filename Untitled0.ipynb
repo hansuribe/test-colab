{
  "nbformat": 4,
  "nbformat_minor": 0,
  "metadata": {
    "colab": {
      "provenance": [],
      "authorship_tag": "ABX9TyN7HepRhje60u8KCBWQWY/F",
      "include_colab_link": true
    },
    "kernelspec": {
      "name": "python3",
      "display_name": "Python 3"
    },
    "language_info": {
      "name": "python"
    }
  },
  "cells": [
    {
      "cell_type": "markdown",
      "metadata": {
        "id": "view-in-github",
        "colab_type": "text"
      },
      "source": [
        "<a href=\"https://colab.research.google.com/github/hansuribe/test-colab/blob/main/Untitled0.ipynb\" target=\"_parent\"><img src=\"https://colab.research.google.com/assets/colab-badge.svg\" alt=\"Open In Colab\"/></a>"
      ]
    },
    {
      "cell_type": "code",
      "execution_count": 1,
      "metadata": {
        "colab": {
          "base_uri": "https://localhost:8080/"
        },
        "id": "3l5ZnpfoIiXR",
        "outputId": "afed10cf-3afe-425b-f8b8-a2549fde9c91"
      },
      "outputs": [
        {
          "output_type": "stream",
          "name": "stdout",
          "text": [
            "hello word\n",
            "50\n",
            "el seno es : 0.8939966636005579\n",
            "11\n",
            "22\n"
          ]
        }
      ],
      "source": [
        "import numpy as np\n",
        "print('hello word')\n",
        "\n",
        "a= 5\n",
        "b=10\n",
        "c=a*10\n",
        "print (c)\n",
        "\n",
        "z = np.sin(90)\n",
        "\n",
        "print(\"el seno es :\",z)\n",
        "\n",
        "f= np.random.randint(1000)\n",
        "\n",
        "print (f)\n",
        "\n",
        "z = f*2 \n",
        "\n",
        "print (z)"
      ]
    }
  ]
}